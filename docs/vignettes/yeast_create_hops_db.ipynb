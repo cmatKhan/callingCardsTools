{
 "cells": [
  {
   "cell_type": "markdown",
   "metadata": {},
   "source": [
    "# Setup\n",
    "\n",
    "import libraries, etc"
   ]
  },
  {
   "cell_type": "code",
   "execution_count": null,
   "metadata": {},
   "outputs": [],
   "source": [
    "from io import StringIO\n",
    "import glob\n",
    "import os\n",
    "import re\n",
    "# the peak callers all inherit from DatabaseApi, a class which offers an interface \n",
    "# to a sqlite database to store Calling Cards data\n",
    "from callingcardstools.database_managers.yeast import HopsDb\n",
    "from callingcardstools.PackageResources import Resources\n",
    "import pandas as pd\n",
    "\n",
    "# This object allows retrieval of package resources\n",
    "cc_resources = Resources()\n",
    "\n",
    "# create a database either in memory or at a specified location\n",
    "#yeast_db = hopsdb(\"/home/oguzkhan/Desktop/cc_metadata/hops_db.sqlite\")\n",
    "yeast_db = HopsDb(\"/home/oguzkhan/Desktop/cc_metadata/hops_db.sqlite\")\n"
   ]
  },
  {
   "cell_type": "markdown",
   "metadata": {},
   "source": [
    "# Build the database -- preliminaries\n",
    "\n",
    "Add the chromosome name map, background data, and any promoter definition \n",
    "tables"
   ]
  },
  {
   "cell_type": "code",
   "execution_count": null,
   "metadata": {},
   "outputs": [],
   "source": [
    "# From the package resources, read in the chr_map, background data and \n",
    "# promoter regions files\n",
    "chr_map = pd.read_csv(StringIO(cc_resources.yeast_chr_map))\n",
    "chr_map['chr'] = [str(x) for x in chr_map['numbered']]\n",
    "\n",
    "background_sir4 = pd.read_csv(StringIO(cc_resources.yeast_background_sir4),\n",
    "                              names = yeast_db.required_fields['qbed'],\n",
    "\t\t\t\t\t\t\t  sep = \"\\t\")\n",
    "\n",
    "background_sir4['sample'] = ['dSir4']*len(background_sir4)\n",
    "\n",
    "background_adh1 = pd.read_csv(StringIO(cc_resources.yeast_background_adh1),\n",
    "                              names = yeast_db.required_fields['qbed'],\n",
    "\t\t\t\t\t\t\t  sep = \"\\t\")\n",
    "\n",
    "background_adh1['sample'] = ['minus_adh1']*len(background_adh1)\n",
    "background_adh1['chr'] = [str(x) for x in background_adh1['chr']]\n",
    "\n",
    "yiming_promoters = pd.read_csv(StringIO(cc_resources.yeast_promoters_yiming), \n",
    "\t\t\t\t\t\t\tsep = \"\\t\", \n",
    "\t\t\t\t\t\t\tnames = yeast_db.required_fields['bed6'] + ['common'])\n",
    "\n",
    "not_orf = pd.read_csv(StringIO(cc_resources.yeast_promoters_not_orf), \n",
    "\t\t\t\t\t\t\tsep = \"\\t\", \n",
    "\t\t\t\t\t\t\tnames = yeast_db.required_fields['bed6'])\n",
    "# add these to the database\n",
    "yeast_db.add_frame(chr_map, \"chr_map\", tablename = 'chr_map', drop = True)\n",
    "yeast_db.add_frame(yiming_promoters, 'bed6', table_type='regions', tablename_suffix ='yiming', drop = True)\n",
    "yeast_db.add_frame(not_orf, 'bed6', table_type='regions', tablename_suffix= 'not_orf', drop = True)\n",
    "yeast_db.add_frame(background_sir4,'qbed', table_type='background',tablename_suffix='dSir4', drop = True)\n",
    "yeast_db.add_frame(background_adh1,'qbed', table_type=\"background\", tablename_suffix= 'adh1', drop = True)"
   ]
  },
  {
   "cell_type": "markdown",
   "metadata": {},
   "source": [
    "# Get experimental data \n",
    "\n",
    "create a dataframe which stores the path to the ccf/qbed file, and some additional \n",
    "info on each, parsed out of the filepath."
   ]
  },
  {
   "cell_type": "code",
   "execution_count": null,
   "metadata": {},
   "outputs": [],
   "source": [
    "def extract_descriptors(row: pd.Series) -> list:\n",
    "\t\"\"\"add columns to the ccf_df\n",
    "\n",
    "\tArgs:\n",
    "\t\trow (pd.Series): a row from the ccf_df below\n",
    "\n",
    "\tReturns:\n",
    "\t\tlist: a list of items to add to fields in the ccf_df\n",
    "\t\"\"\"\n",
    "\tpath = row['ccf']\n",
    "\t\n",
    "\tsample = os.path.basename(path)\n",
    "\tsample = re.sub(r\"^E\\d+_\",\"\",sample)\n",
    "\tsample = re.sub(r\"_JP\\d+.ccf$\",\"\",sample)\n",
    "\tsample = re.sub(r\".ccf$\",\"\", sample)\n",
    "\n",
    "\trunNumber = re.findall(r'run_\\d+',path)[0]\n",
    "\ttf_replicate = re.sub(r'.ccf','', sample)\n",
    "\n",
    "\ttf = re.sub(r'_taqaI.*.ccf|_v2','', sample)\n",
    "\ttf = re.sub(r'_taqaI*$',\"\", tf)\n",
    "\ttf = re.sub(r'_taqaIV2', '', tf)\n",
    "\ttf = re.sub(r'HAP4\\w', 'HAP4', tf)\n",
    "\n",
    "\treturn tf,tf_replicate,runNumber,sample\n",
    "\n",
    "# create initial df with list of ccf files\n",
    "ccf_df = pd.DataFrame({'ccf': glob.glob(\"/mnt/lts/sequence_data/yeast_cc/cc_pipeline_output/*/sig_promoter/data/*ccf\")})\n",
    "# add some additional info\n",
    "ccf_df[['tf', 'tf_replicate', 'runNumber', 'sample']] = ccf_df.apply(lambda row: extract_descriptors(row), axis=1, result_type='expand')"
   ]
  },
  {
   "cell_type": "markdown",
   "metadata": {},
   "source": [
    "# Add each experimental experimental (eg, a single TF replicate) ccf/qbed to the database"
   ]
  },
  {
   "cell_type": "code",
   "execution_count": null,
   "metadata": {},
   "outputs": [],
   "source": [
    "def add_ccf_to_db(row: pd.Series) -> None:\n",
    "\t\"\"\"read in the ccf, augment and add to the yeast_db\n",
    "\n",
    "\tArgs:\n",
    "\t\trow (pd.Series): a row from the ccf_df\n",
    "\t\"\"\"\n",
    "\t# note that only the first 6 rows are used for the names. sample, the 6th, \n",
    "\t# is added in this function\n",
    "\tdf = pd.read_csv(row['ccf'], \n",
    "\t                 sep = '\\t', \n",
    "\t\t\t\t\t names =yeast_db.required_fields['qbed'][:-1])\n",
    "\tdf['sample'] = \"_\".join([row['sample'], row['runNumber']])\n",
    "\tyeast_db.add_frame(df,'qbed',table_type='experiment',tablename_suffix = row['tf'])\n",
    "\n",
    "ccf_df.apply(lambda row: add_ccf_to_db(row), axis=1)"
   ]
  },
  {
   "cell_type": "markdown",
   "metadata": {},
   "source": [
    "# Create aggregate views\n",
    "\n",
    "For a given table of region (ie promoter) definitions, this creates a view \n",
    "for each background and each experiment table which aggregates the hops over \n",
    "each of the defined regions"
   ]
  },
  {
   "cell_type": "code",
   "execution_count": null,
   "metadata": {},
   "outputs": [],
   "source": [
    "yeast_db.create_aggregate_view(\"regions_yiming\")\n",
    "yeast_db.create_aggregate_view(\"regions_not_orf\")"
   ]
  },
  {
   "cell_type": "markdown",
   "metadata": {},
   "source": [
    "# Create statistics tables"
   ]
  },
  {
   "cell_type": "code",
   "execution_count": null,
   "metadata": {},
   "outputs": [],
   "source": [
    "for region_tbl in ['regions_yiming', 'regions_not_orf']:\n",
    "\tprint(f\"region: {region_tbl}\")\n",
    "\tfor background_tbl in ['background_adh1', 'background_dSir4']:\n",
    "\t\tprint(f\"background: {background_tbl}\")\n",
    "\t\tfor experiment_tbl in [x for x in yeast_db.list_tables(yeast_db.con) if re.match('^experiment_', x)]:\n",
    "\t\t\tprint(f\"experiment: {experiment_tbl}\")\n",
    "\t\t\tyeast_db.peak_caller(regions = region_tbl,background = background_tbl, experiment = experiment_tbl)"
   ]
  },
  {
   "cell_type": "markdown",
   "metadata": {},
   "source": [
    "# Add expression data to the database"
   ]
  },
  {
   "cell_type": "code",
   "execution_count": null,
   "metadata": {},
   "outputs": [],
   "source": [
    "background_adh1 = yeast_db.get_total_hops('background_adh1')\n",
    "expr_hops = yeast_db.get_total_hops"
   ]
  },
  {
   "cell_type": "markdown",
   "metadata": {},
   "source": [
    "# Create rank/response plots"
   ]
  },
  {
   "cell_type": "markdown",
   "metadata": {},
   "source": []
  }
 ],
 "metadata": {
  "kernelspec": {
   "display_name": "Python 3.9.14 ('.venv': poetry)",
   "language": "python",
   "name": "python3"
  },
  "language_info": {
   "codemirror_mode": {
    "name": "ipython",
    "version": 3
   },
   "file_extension": ".py",
   "mimetype": "text/x-python",
   "name": "python",
   "nbconvert_exporter": "python",
   "pygments_lexer": "ipython3",
   "version": "3.9.14"
  },
  "orig_nbformat": 4,
  "vscode": {
   "interpreter": {
    "hash": "70180e53ac4002ada796cb5a849661852af895640b68d8d95e5f4d9de4173714"
   }
  }
 },
 "nbformat": 4,
 "nbformat_minor": 2
}
