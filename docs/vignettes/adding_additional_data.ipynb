{
 "cells": [
  {
   "cell_type": "code",
   "execution_count": 1,
   "metadata": {},
   "outputs": [
    {
     "name": "stdout",
     "output_type": "stream",
     "text": [
      "Checking table column names...\n",
      "Current database tables are valid\n"
     ]
    }
   ],
   "source": [
    "from io import StringIO\n",
    "import glob\n",
    "import os\n",
    "import re\n",
    "# the peak callers all inherit from DatabaseApi, a class which offers an interface \n",
    "# to a sqlite database to store Calling Cards data\n",
    "from callingcardstools.database_managers.yeast import HopsDb\n",
    "from callingcardstools.PackageResources import Resources\n",
    "import pandas as pd\n",
    "\n",
    "# This object allows retrieval of package resources\n",
    "cc_resources = Resources()\n",
    "\n",
    "# create a database either in memory or at a specified location\n",
    "#yeast_db = hopsdb(\"/home/oguzkhan/Desktop/cc_metadata/hops_db.sqlite\")\n",
    "yeast_db = HopsDb(\"/home/oguzkhan/projects/rank_response_shiny/data/qc_db_v2.sqlite\")"
   ]
  },
  {
   "cell_type": "code",
   "execution_count": 5,
   "metadata": {},
   "outputs": [],
   "source": [
    "from callingcardstools.BarcodeParser import BarcodeParser\n",
    "# d = {\n",
    "# \t'run_5301_5088': ['/mnt/scratch/calling_cards/sequence/run_5301_5088/run_5301_5088_barcode_details.json','/mnt/scratch/calling_cards/sequence/run_5301_5088/cctools_split/id_bc_map.tsv'],\n",
    "# \t'run_5690': ['/mnt/scratch/calling_cards/sequence/run_5690/run_5690_barcode_details.json', '/mnt/scratch/calling_cards/sequence/run_5690/cctools_split/id_bc_map.tsv'],\n",
    "# \t'run_6100': ['/mnt/scratch/calling_cards/sequence/run_6100/run_6100_barcode_details.json','/mnt/scratch/calling_cards/sequence/run_6100/cctools_split/id_bc_map.tsv'],\n",
    "# \t'run_6106': ['/mnt/scratch/calling_cards/sequence/run_6106/run_6106_barcode_details.json','/mnt/scratch/calling_cards/sequence/run_6106/cctools_split/id_bc_map.tsv'],\n",
    "# }\n",
    "d = {\n",
    "\t'run_6177': ['/mnt/scratch/calling_cards/mitra_pipeline/run_6177/cctools_split/run_6177_barcode_details.json','/mnt/scratch/calling_cards/mitra_pipeline/run_6177/cctools_split/id_bc_map.tsv']\n",
    "}\n",
    "\n",
    "for k,v in d.items():\n",
    "\tbp = BarcodeParser(v[0])\n",
    "\tyeast_db.add_batch_qc(bp,v[1])"
   ]
  },
  {
   "cell_type": "code",
   "execution_count": 7,
   "metadata": {},
   "outputs": [],
   "source": [
    "ccf_df = pd.read_csv(\"/home/oguzkhan/projects/rank_response_shiny/data/run_6177_ccf_lookup.csv\")\n",
    "ccf_df['batch'] = ccf_df['batch'].str.lower()\n",
    "batch_tbl = pd.read_sql_query('Select * from batch', yeast_db.con)\n",
    "ccf_df_with_batch_id = pd.merge(ccf_df,batch_tbl,how='left', on=['batch','tf', 'replicate'])"
   ]
  },
  {
   "cell_type": "code",
   "execution_count": 10,
   "metadata": {},
   "outputs": [],
   "source": [
    "\n",
    "df_list = []\n",
    "def add_ccf_to_db(row: pd.Series) -> None:\n",
    "\t\"\"\"read in the ccf, augment and add to the yeast_db\n",
    "\n",
    "\tArgs:\n",
    "\t\trow (pd.Series): a row from the ccf_df\n",
    "\t\"\"\"\n",
    "\t# note that only the first 6 rows are used for the names. sample, the 6th, \n",
    "\t# is added in this function\n",
    "\tdf = pd.read_csv(row['ccf'], \n",
    "\t                 sep = '\\t', \n",
    "\t\t\t\t\t names = ['chr','start','end','depth','strand','annotation'])\n",
    "\tdf['batch_id'] = row['id']\n",
    "\tprint(df.head(2))\n",
    "\tyeast_db.add_frame(df,'qbed',table_type='experiment',tablename_suffix = row['tf'], fk_tablelist=['batch'])\n",
    "\n"
   ]
  },
  {
   "cell_type": "code",
   "execution_count": 11,
   "metadata": {},
   "outputs": [
    {
     "name": "stdout",
     "output_type": "stream",
     "text": [
      "    chr  start   end  depth strand  annotation  batch_id\n",
      "0  chrI   1412  1413      1      +         NaN       106\n",
      "1  chrI   1641  1642      1      -         NaN       106\n",
      "    chr  start    end  depth strand  annotation  batch_id\n",
      "0  chrI  67996  67997      1      +         NaN       108\n",
      "1  chrI  71219  71220      1      +         NaN       108\n",
      "    chr  start    end  depth strand  annotation  batch_id\n",
      "0  chrI  33149  33150      1      +         NaN       107\n",
      "1  chrI  71005  71006      1      -         NaN       107\n",
      "      chr   start     end  depth strand  annotation  batch_id\n",
      "0  chrIII    1430    1431      1      +         NaN       110\n",
      "1    chrV  566699  566700      1      -         NaN       110\n",
      "    chr  start   end  depth strand  annotation  batch_id\n",
      "0  chrI   6371  6372      1      +         NaN       111\n",
      "1  chrI   6483  6484      1      -         NaN       111\n",
      "    chr   start     end  depth strand  annotation  batch_id\n",
      "0  chrI   57948   57949      1      +         NaN       112\n",
      "1  chrI  203179  203180      1      +         NaN       112\n",
      "    chr  start    end  depth strand  annotation  batch_id\n",
      "0  chrI  41738  41739      1      -         NaN       109\n",
      "1  chrI  48660  48661      1      -         NaN       109\n"
     ]
    },
    {
     "data": {
      "text/plain": [
       "0    None\n",
       "1    None\n",
       "2    None\n",
       "3    None\n",
       "4    None\n",
       "5    None\n",
       "6    None\n",
       "dtype: object"
      ]
     },
     "execution_count": 11,
     "metadata": {},
     "output_type": "execute_result"
    }
   ],
   "source": [
    "#ccf_df.apply(lambda row: extract_descriptors(row), axis=1, result_type='expand')\n",
    "ccf_df_with_batch_id.apply(lambda row: add_ccf_to_db(row), axis=1)"
   ]
  },
  {
   "cell_type": "code",
   "execution_count": 12,
   "metadata": {},
   "outputs": [],
   "source": [
    "background_and_expr_tbls = [x for x in yeast_db.list_tables(yeast_db.con) if re.search(r\"^background|^experiment\",x)]\n",
    "for regions_tbl in ['regions_yiming', 'regions_not_orf']:\n",
    "    for qbed in background_and_expr_tbls:\n",
    "        yeast_db.create_aggregate_view(qbed,regions_tbl)"
   ]
  },
  {
   "cell_type": "code",
   "execution_count": 14,
   "metadata": {},
   "outputs": [
    {
     "name": "stdout",
     "output_type": "stream",
     "text": [
      "region: regions_yiming\n",
      "background: background_adh1\n",
      "background: background_dSir4\n",
      "region: regions_not_orf\n",
      "background: background_adh1\n",
      "background: background_dSir4\n"
     ]
    }
   ],
   "source": [
    "# experiment_list = [x for x in yeast_db.list_tables(yeast_db.con) if re.match('^experiment_', x)]\n",
    "\n",
    "experiment_list = ['experiment_DAL80',\n",
    " 'experiment_GCR1',\n",
    " 'experiment_GZF3',\n",
    " 'experiment_INO2',\n",
    " 'experiment_MET31']\n",
    "\n",
    "for region_tbl in ['regions_yiming', 'regions_not_orf']:\n",
    "\tprint(f\"region: {region_tbl}\")\n",
    "\tfor background_tbl in ['background_adh1', 'background_dSir4']:\n",
    "\t\tprint(f\"background: {background_tbl}\")\n",
    "\t\tfor experiment_tbl in experiment_list:\n",
    "\t\t\t#print(f\"experiment: {experiment_tbl}\")\n",
    "\t\t\tyeast_db.peak_caller(regions = region_tbl,background = background_tbl, experiment = experiment_tbl,if_exists='replace')"
   ]
  }
 ],
 "metadata": {
  "kernelspec": {
   "display_name": "Python 3.9.15 ('.venv': poetry)",
   "language": "python",
   "name": "python3"
  },
  "language_info": {
   "codemirror_mode": {
    "name": "ipython",
    "version": 3
   },
   "file_extension": ".py",
   "mimetype": "text/x-python",
   "name": "python",
   "nbconvert_exporter": "python",
   "pygments_lexer": "ipython3",
   "version": "3.9.16 (main, Dec  7 2022, 01:11:51) \n[GCC 9.4.0]"
  },
  "orig_nbformat": 4,
  "vscode": {
   "interpreter": {
    "hash": "70180e53ac4002ada796cb5a849661852af895640b68d8d95e5f4d9de4173714"
   }
  }
 },
 "nbformat": 4,
 "nbformat_minor": 2
}
