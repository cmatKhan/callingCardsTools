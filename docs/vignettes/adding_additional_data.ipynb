{
 "cells": [
  {
   "cell_type": "code",
   "execution_count": 2,
   "metadata": {},
   "outputs": [
    {
     "name": "stdout",
     "output_type": "stream",
     "text": [
      "Checking table column names...\n",
      "Current database tables are valid\n"
     ]
    }
   ],
   "source": [
    "from io import StringIO\n",
    "import glob\n",
    "import os\n",
    "import re\n",
    "# the peak callers all inherit from DatabaseApi, a class which offers an interface \n",
    "# to a sqlite database to store Calling Cards data\n",
    "from callingcardstools.database_managers.yeast import HopsDb\n",
    "from callingcardstools.PackageResources import Resources\n",
    "import pandas as pd\n",
    "\n",
    "# This object allows retrieval of package resources\n",
    "cc_resources = Resources()\n",
    "\n",
    "# create a database either in memory or at a specified location\n",
    "#yeast_db = hopsdb(\"/home/oguzkhan/Desktop/cc_metadata/hops_db.sqlite\")\n",
    "yeast_db = HopsDb(\"/home/oguzkhan/projects/rank_response_shiny/data/qc_db_v2.sqlite\")"
   ]
  },
  {
   "cell_type": "code",
   "execution_count": 7,
   "metadata": {},
   "outputs": [],
   "source": [
    "from callingcardstools.BarcodeParser import BarcodeParser\n",
    "# d = {\n",
    "# \t'run_5301_5088': ['/mnt/scratch/calling_cards/sequence/run_5301_5088/run_5301_5088_barcode_details.json','/mnt/scratch/calling_cards/sequence/run_5301_5088/cctools_split/id_bc_map.tsv'],\n",
    "# \t'run_5690': ['/mnt/scratch/calling_cards/sequence/run_5690/run_5690_barcode_details.json', '/mnt/scratch/calling_cards/sequence/run_5690/cctools_split/id_bc_map.tsv'],\n",
    "# \t'run_6100': ['/mnt/scratch/calling_cards/sequence/run_6100/run_6100_barcode_details.json','/mnt/scratch/calling_cards/sequence/run_6100/cctools_split/id_bc_map.tsv'],\n",
    "# \t'run_6106': ['/mnt/scratch/calling_cards/sequence/run_6106/run_6106_barcode_details.json','/mnt/scratch/calling_cards/sequence/run_6106/cctools_split/id_bc_map.tsv'],\n",
    "# }\n",
    "d = {\n",
    "\t'run_6390': ['/mnt/scratch/cc/mitra_pipeline/run_6390/run_6390_barcode_details.json',\n",
    "\t      '/mnt/scratch/cc/mitra_pipeline/run_6390/cctools_split/id_bc_map.tsv'],\n",
    "}\n",
    "\n",
    "for k,v in d.items():\n",
    "\tbp = BarcodeParser(v[0])\n",
    "\tyeast_db.add_batch_qc(bp,v[1])"
   ]
  },
  {
   "cell_type": "code",
   "execution_count": 16,
   "metadata": {},
   "outputs": [],
   "source": [
    "ccf_basepath='/mnt/scratch/cc/mitra_pipeline/run_6390/ccf/'\n",
    "\n",
    "tf_list = ['SKO1', 'MSN2', 'SKN7', \n",
    "            'USV1', 'DAL80', 'GZF3',\n",
    "            'INO2', 'MSN2']\n",
    "\n",
    "replicate_list = ['none', '1', 'none', \n",
    "                   'none', 'none', 'none',\n",
    "                   'none', '2']\n",
    "\n",
    "ccf_list = [os.path.join(ccf_basepath,x+'_with_annote.ccf') for x in tf_list]\n",
    "\n",
    "ccf_list[1] = ccf_list[1].replace('MSN2','MSN2_1')\n",
    "\n",
    "ccf_list[7] = ccf_list[5].replace('MSN2','MSN2_2')\n",
    "\n",
    "ccf_df = pd.DataFrame.from_dict(\n",
    "\t{'batch': ['run_6390'] * 8,\n",
    "     'tf': tf_list,\n",
    "     'replicate': replicate_list,\n",
    "\t 'ccf':ccf_list}\n",
    ")\n",
    "\n",
    "#ccf_df = pd.read_csv(\"/home/oguzkhan/projects/rank_response_shiny/data/run_6177_ccf_lookup.csv\")\n",
    "ccf_df['batch'] = ccf_df['batch'].str.lower()\n",
    "batch_tbl = pd.read_sql_query('Select * from batch', yeast_db.con)\n",
    "ccf_df_with_batch_id = pd.merge(ccf_df,batch_tbl,how='left', on=['batch','tf', 'replicate'])"
   ]
  },
  {
   "cell_type": "code",
   "execution_count": 18,
   "metadata": {},
   "outputs": [],
   "source": [
    "\n",
    "def add_ccf_to_db(row: pd.Series) -> None:\n",
    "\t\"\"\"read in the ccf, augment and add to the yeast_db\n",
    "\n",
    "\tArgs:\n",
    "\t\trow (pd.Series): a row from the ccf_df\n",
    "\t\"\"\"\n",
    "\t# note that only the first 6 rows are used for the names. sample, the 6th, \n",
    "\t# is added in this function\n",
    "\tdf = pd.read_csv(row['ccf'], \n",
    "\t                 sep = '\\t', \n",
    "\t\t\t\t\t names = ['chr','start','end','depth','strand','annotation'])\n",
    "\tdf['batch_id'] = row['id']\n",
    "\tprint(df.head(2))\n",
    "\tyeast_db.add_frame(df,'qbed',table_type='experiment',tablename_suffix = row['tf'], fk_tablelist=['batch'])\n",
    "\n"
   ]
  },
  {
   "cell_type": "code",
   "execution_count": 19,
   "metadata": {},
   "outputs": [
    {
     "name": "stdout",
     "output_type": "stream",
     "text": [
      "    chr  start    end  depth strand     annotation  batch_id\n",
      "0  chrI  29341  29342      1      +  GAATCTGAAATCG       125\n",
      "1  chrI  29410  29411      6      -  GAATCTGAAATCG       125\n",
      "    chr  start   end  depth strand     annotation  batch_id\n",
      "0  chrI   5886  5887      1      +  GCTTAAAGCCCCA       126\n",
      "1  chrI   9248  9249      5      +  GCTTAAAGCCCCA       126\n",
      "    chr  start   end  depth strand     annotation  batch_id\n",
      "0  chrI   6279  6280      5      +  GTCCCTACTCTCC       127\n",
      "1  chrI   6403  6404      1      +  GTCCCTACTCTCC       127\n",
      "    chr  start   end  depth strand     annotation  batch_id\n",
      "0  chrI   1997  1998      1      +  TTGCGGTAGTGCC       128\n",
      "1  chrI   4926  4927      9      -  TTGCGGTAGTGCC       128\n",
      "    chr   start     end  depth strand     annotation  batch_id\n",
      "0  chrI  184729  184730      2      -  GCTTATACGGCGT       129\n",
      "1  chrI  191699  191700      2      +  GCTTATACGGCGT       129\n",
      "    chr   start     end  depth strand     annotation  batch_id\n",
      "0  chrI   67886   67887      4      +  GTCCCCAGAGGGG       130\n",
      "1  chrI  198712  198713      3      -  GTCCCCAGAGGGG       130\n",
      "    chr  start    end  depth strand     annotation  batch_id\n",
      "0  chrI  68253  68254      1      -  TACTCACCTGTTT       131\n",
      "1  chrI  71213  71214      2      +  TACTCACCTGTTT       131\n",
      "    chr   start     end  depth strand     annotation  batch_id\n",
      "0  chrI   67886   67887      4      +  GTCCCCAGAGGGG       132\n",
      "1  chrI  198712  198713      3      -  GTCCCCAGAGGGG       132\n"
     ]
    },
    {
     "data": {
      "text/plain": [
       "0    None\n",
       "1    None\n",
       "2    None\n",
       "3    None\n",
       "4    None\n",
       "5    None\n",
       "6    None\n",
       "7    None\n",
       "dtype: object"
      ]
     },
     "execution_count": 19,
     "metadata": {},
     "output_type": "execute_result"
    }
   ],
   "source": [
    "#ccf_df.apply(lambda row: extract_descriptors(row), axis=1, result_type='expand')\n",
    "ccf_df_with_batch_id.apply(lambda row: add_ccf_to_db(row), axis=1)"
   ]
  },
  {
   "cell_type": "code",
   "execution_count": 24,
   "metadata": {},
   "outputs": [],
   "source": [
    "#background_and_expr_tbls = [x for x in yeast_db.list_tables(yeast_db.con) if re.search(r\"^background|^experiment\",x)]\n",
    "experiment_list = ['experiment_'+x for x in tf_list]\n",
    "# in this case -- remove the last item b/c it is a second replicate of a given TF\n",
    "# in the run\n",
    "experiment_list = experiment_list[0:7]\n",
    "\n",
    "# NOTE! This doesn't need to be re-done if the view already exists, meaning \n",
    "# the experiment table already exists. It doesn't hurt to re-run\n",
    "for regions_tbl in ['regions_yiming', 'regions_not_orf']:\n",
    "    for qbed in experiment_list:\n",
    "        yeast_db.create_aggregate_view(qbed,regions_tbl)"
   ]
  },
  {
   "cell_type": "code",
   "execution_count": 26,
   "metadata": {},
   "outputs": [
    {
     "name": "stdout",
     "output_type": "stream",
     "text": [
      "region: regions_yiming\n",
      "background: background_adh1\n",
      "experiment: experiment_SKO1\n",
      "experiment: experiment_MSN2\n",
      "experiment: experiment_SKN7\n",
      "experiment: experiment_USV1\n",
      "experiment: experiment_DAL80\n",
      "experiment: experiment_GZF3\n",
      "experiment: experiment_INO2\n",
      "background: background_dSir4\n",
      "experiment: experiment_SKO1\n",
      "experiment: experiment_MSN2\n",
      "experiment: experiment_SKN7\n",
      "experiment: experiment_USV1\n",
      "experiment: experiment_DAL80\n",
      "experiment: experiment_GZF3\n",
      "experiment: experiment_INO2\n",
      "region: regions_not_orf\n",
      "background: background_adh1\n",
      "experiment: experiment_SKO1\n",
      "experiment: experiment_MSN2\n",
      "experiment: experiment_SKN7\n",
      "experiment: experiment_USV1\n",
      "experiment: experiment_DAL80\n",
      "experiment: experiment_GZF3\n",
      "experiment: experiment_INO2\n",
      "background: background_dSir4\n",
      "experiment: experiment_SKO1\n",
      "experiment: experiment_MSN2\n",
      "experiment: experiment_SKN7\n",
      "experiment: experiment_USV1\n",
      "experiment: experiment_DAL80\n",
      "experiment: experiment_GZF3\n",
      "experiment: experiment_INO2\n"
     ]
    }
   ],
   "source": [
    "# experiment list is being created above now -- see previous block\n",
    "\n",
    "# experiment_list = [x for x in yeast_db.list_tables(yeast_db.con) if re.match('^experiment_', x)]\n",
    "\n",
    "# experiment_list = ['experiment_RDS2', \n",
    "#                    'experiment_MET31',\n",
    "#                    'experiment_INO2',\n",
    "#                    'experiment_CAD1',\n",
    "#                    'experiment_SIP4',\n",
    "#                    'experiment_GZF3']\n",
    "\n",
    "for region_tbl in ['regions_yiming', 'regions_not_orf']:\n",
    "\tprint(f\"region: {region_tbl}\")\n",
    "\tfor background_tbl in ['background_adh1', 'background_dSir4']:\n",
    "\t\tprint(f\"background: {background_tbl}\")\n",
    "\t\tfor experiment_tbl in experiment_list:\n",
    "\t\t\tprint(f\"experiment: {experiment_tbl}\")\n",
    "\t\t\tyeast_db.peak_caller(regions = region_tbl,background = background_tbl, experiment = experiment_tbl,if_exists='replace')"
   ]
  }
 ],
 "metadata": {
  "kernelspec": {
   "display_name": "Python 3.9.15 ('.venv': poetry)",
   "language": "python",
   "name": "python3"
  },
  "language_info": {
   "codemirror_mode": {
    "name": "ipython",
    "version": 3
   },
   "file_extension": ".py",
   "mimetype": "text/x-python",
   "name": "python",
   "nbconvert_exporter": "python",
   "pygments_lexer": "ipython3",
   "version": "3.9.16"
  },
  "orig_nbformat": 4,
  "vscode": {
   "interpreter": {
    "hash": "70180e53ac4002ada796cb5a849661852af895640b68d8d95e5f4d9de4173714"
   }
  }
 },
 "nbformat": 4,
 "nbformat_minor": 2
}
